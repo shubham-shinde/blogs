{
 "cells": [
  {
   "cell_type": "code",
   "execution_count": 1,
   "id": "66e200ec-9b3b-4cfd-9532-897bb9602523",
   "metadata": {},
   "outputs": [],
   "source": [
    "import torch\n",
    "import pandas as pd\n",
    "from pathlib import Path\n",
    "BASE_PATH=Path('data/tiny_shakespeare/')"
   ]
  },
  {
   "cell_type": "code",
   "execution_count": 2,
   "id": "308484a4-414f-483c-b393-c8194a90dd46",
   "metadata": {
    "tags": []
   },
   "outputs": [
    {
     "data": {
      "text/html": [
       "<div>\n",
       "<style scoped>\n",
       "    .dataframe tbody tr th:only-of-type {\n",
       "        vertical-align: middle;\n",
       "    }\n",
       "\n",
       "    .dataframe tbody tr th {\n",
       "        vertical-align: top;\n",
       "    }\n",
       "\n",
       "    .dataframe thead th {\n",
       "        text-align: right;\n",
       "    }\n",
       "</style>\n",
       "<table border=\"1\" class=\"dataframe\">\n",
       "  <thead>\n",
       "    <tr style=\"text-align: right;\">\n",
       "      <th></th>\n",
       "      <th>text</th>\n",
       "    </tr>\n",
       "  </thead>\n",
       "  <tbody>\n",
       "    <tr>\n",
       "      <th>0</th>\n",
       "      <td>First Citizen:\\nBefore we proceed any further,...</td>\n",
       "    </tr>\n",
       "  </tbody>\n",
       "</table>\n",
       "</div>"
      ],
      "text/plain": [
       "                                                text\n",
       "0  First Citizen:\\nBefore we proceed any further,..."
      ]
     },
     "execution_count": 2,
     "metadata": {},
     "output_type": "execute_result"
    }
   ],
   "source": [
    "df = pd.read_csv(BASE_PATH/'train.csv')\n",
    "df"
   ]
  },
  {
   "cell_type": "code",
   "execution_count": 3,
   "id": "36d65e5e-295a-4bba-b96e-120384683daa",
   "metadata": {
    "tags": []
   },
   "outputs": [
    {
     "data": {
      "text/plain": [
       "1003854"
      ]
     },
     "execution_count": 3,
     "metadata": {},
     "output_type": "execute_result"
    }
   ],
   "source": [
    "plays = df.iloc[0].text\n",
    "len(plays)"
   ]
  },
  {
   "cell_type": "code",
   "execution_count": 4,
   "id": "d2f611ae-1e69-4c94-b2e5-ef3452f36a67",
   "metadata": {
    "tags": []
   },
   "outputs": [
    {
     "name": "stdout",
     "output_type": "stream",
     "text": [
      "vocab_size 65\n",
      "['\\n', ' ', '!', '$', '&', \"'\", ',', '-', '.', '3', ':', ';', '?', 'A', 'B',\n",
      " 'C', 'D', 'E', 'F', 'G', 'H', 'I', 'J', 'K', 'L', 'M', 'N', 'O', 'P', 'Q', 'R',\n",
      " 'S', 'T', 'U', 'V', 'W', 'X', 'Y', 'Z', 'a', 'b', 'c', 'd', 'e', 'f', 'g', 'h',\n",
      " 'i', 'j', 'k', 'l', 'm', 'n', 'o', 'p', 'q', 'r', 's', 't', 'u', 'v', 'w', 'x',\n",
      " 'y', 'z']\n",
      "[(' ', 153275), ('e', 85496), ('t', 60384), ('o', 59521), ('a', 49718),\n",
      " ('h', 46390), ('s', 44820), ('r', 44271), ('n', 43817), ('i', 40984),\n",
      " ('\\n', 35525), ('l', 30239), ('d', 28462), ('u', 24055), ('m', 19968),\n",
      " ('y', 18400), (',', 17706), ('w', 15756), ('f', 14305), ('c', 14142),\n",
      " ('g', 12092), ('I', 10341), ('b', 10236), ('p', 9820), (':', 9044),\n",
      " ('v', 7098), ('.', 6960), ('A', 6648), ('k', 6394), ('T', 5971), ('E', 5567),\n",
      " (\"'\", 5561), ('O', 4561), ('N', 4383), ('R', 4235), ('S', 4048), ('L', 3597),\n",
      " ('C', 3480), (';', 3231), ('W', 3212), ('U', 3057), ('H', 2651), ('M', 2615),\n",
      " ('B', 2418), ('G', 2189), ('?', 2171), ('D', 1941), ('!', 1914), ('F', 1691),\n",
      " ('-', 1686), ('Y', 1648), ('K', 1417), ('P', 1200), ('V', 746), ('j', 588),\n",
      " ('q', 563), ('x', 480), ('z', 320), ('J', 312), ('Q', 230), ('Z', 161),\n",
      " ('X', 112), ('3', 27), ('&', 3), ('$', 1)]\n"
     ]
    }
   ],
   "source": [
    "from operator import itemgetter\n",
    "from pprint import pprint\n",
    "\n",
    "chars = sorted(list(set(plays)))\n",
    "vocab_size = len(chars)\n",
    "print('vocab_size', vocab_size)\n",
    "char_counts = sorted([(c, plays.count(c)) for c in chars], reverse=True, key=itemgetter(1))\n",
    "pprint(chars, compact=1)\n",
    "pprint(char_counts, compact=1)"
   ]
  },
  {
   "cell_type": "code",
   "execution_count": 5,
   "id": "577812f1-866c-4c4e-b1b1-7f99aa1de144",
   "metadata": {
    "tags": []
   },
   "outputs": [
    {
     "name": "stdout",
     "output_type": "stream",
     "text": [
      "Second Citizen:\n",
      "Would you proceed especially against Caius Marcius?\n",
      "\n",
      "All:\n",
      "Against him first: he's a very dog to the commonalty.\n",
      "\n",
      "Second Citizen:\n",
      "Consider you what services he has done for his country?\n",
      "\n",
      "First Citizen:\n",
      "Very well; and could be content to give him good\n",
      "report fort, but that he pays himself with being proud.\n",
      "\n",
      "Second Citizen:\n",
      "Nay, but speak not maliciously.\n",
      "\n",
      "First Citizen:\n",
      "I say unto you, what he hath done famously, he did\n",
      "it to that end: though soft-conscienced men can be\n",
      "content to \n"
     ]
    }
   ],
   "source": [
    "# random data check\n",
    "print(plays[1000: 1500])"
   ]
  },
  {
   "cell_type": "code",
   "execution_count": 16,
   "id": "c3842fef-4492-4fa7-890d-374b8917751c",
   "metadata": {
    "tags": []
   },
   "outputs": [
    {
     "name": "stdout",
     "output_type": "stream",
     "text": [
      "tensor([46, 47])\n",
      "hi\n"
     ]
    }
   ],
   "source": [
    "stoi = {chars[i]:i for i in range(len(chars))}\n",
    "itos = {i:chars[i] for i in range(len(chars))}\n",
    "encode = lambda s: torch.tensor([stoi[i] for i in s], dtype=torch.long)\n",
    "decode = lambda i: ''.join([itos[s] for s in i.tolist()])\n",
    "# test\n",
    "e = encode('hi')\n",
    "print(e)\n",
    "d = decode(e)\n",
    "print(d)"
   ]
  },
  {
   "cell_type": "code",
   "execution_count": null,
   "id": "4a811878-dfdc-4808-8f3b-9e79548c95c5",
   "metadata": {
    "tags": []
   },
   "outputs": [],
   "source": []
  },
  {
   "cell_type": "code",
   "execution_count": 17,
   "id": "88cb69f9-afc5-4e9b-a602-48405d4a28ea",
   "metadata": {
    "tags": []
   },
   "outputs": [
    {
     "data": {
      "text/plain": [
       "(tensor([[53, 52, 53, 59, 56, 11,  1, 39],\n",
       "         [ 1, 28, 50, 39, 52, 58, 39, 45],\n",
       "         [58, 46, 43, 56,  1, 58, 59, 56],\n",
       "         [47, 52,  1, 58, 46, 43, 47, 56]]),\n",
       " tensor([[52, 53, 59, 56, 11,  1, 39, 52],\n",
       "         [28, 50, 39, 52, 58, 39, 45, 43],\n",
       "         [46, 43, 56,  1, 58, 59, 56, 52],\n",
       "         [52,  1, 58, 46, 43, 47, 56,  1]]))"
      ]
     },
     "execution_count": 17,
     "metadata": {},
     "output_type": "execute_result"
    }
   ],
   "source": [
    "block_size = 8\n",
    "batch_size = 4\n",
    "\n",
    "def get_random_batches(data):\n",
    "    x_pos = torch.randint(len(data) - block_size - 1, (batch_size,))\n",
    "    x = torch.stack([data[i:i+block_size] for i in x_pos])\n",
    "    y = torch.stack([data[i+1:i+block_size+1] for i in x_pos])\n",
    "    return x, y\n",
    "\n",
    "get_random_batches(data)"
   ]
  },
  {
   "cell_type": "code",
   "execution_count": 18,
   "id": "0bd181ac-de22-4d22-811a-40cc9492ebcf",
   "metadata": {
    "tags": []
   },
   "outputs": [],
   "source": [
    "# config class\n",
    "class Config(dict):\n",
    "    def __setitem__(self, key, value):\n",
    "        super().__setitem__(key, value)\n",
    "        \n",
    "    def __getattr__(self, v):\n",
    "        return super().__getitem__(v)"
   ]
  },
  {
   "cell_type": "code",
   "execution_count": 52,
   "id": "271e788e-c031-46e3-a178-3bc71cf7cd1e",
   "metadata": {
    "tags": []
   },
   "outputs": [
    {
     "name": "stdout",
     "output_type": "stream",
     "text": [
      "{'vocab_size': 65, 'block_size': 8, 'n_embed': 10}\n"
     ]
    },
    {
     "data": {
      "text/plain": [
       "torch.Size([4, 8, 10])"
      ]
     },
     "execution_count": 52,
     "metadata": {},
     "output_type": "execute_result"
    }
   ],
   "source": [
    "from torch import nn\n",
    "\n",
    "class CausaulAttentionModule(torch.nn.Module):\n",
    "    def __init__(self, config):\n",
    "        super().__init__()\n",
    "        q = nn.?\n",
    "        k = nn.?\n",
    "        v = nn.?\n",
    "        sm = nn.Softmax()\n",
    "        \n",
    "        \n",
    "    def forward(self, x):\n",
    "        # something like this in basic format\n",
    "#         q = x@self.q\n",
    "#         k = x@self.k\n",
    "#         v = x@self.v\n",
    "        \n",
    "#         return self.sm(q.dot(k))*v\n",
    "\n",
    "        # now x is 3 * n_embed i.e, (q, k, v) * n_embed\n",
    "        # linear transformation with parameters\n",
    "\n",
    "class Block(torch.nn.Module):\n",
    "    def __init__(self, config):\n",
    "        super().__init__()\n",
    "        attn = CausaulAttentionModule(config)\n",
    "        mlp = nn.Linear(config.block_size, config.block_size)\n",
    "        \n",
    "    def forward(self, x):\n",
    "        x = x + self.attn(x)\n",
    "        x = x + self.mlp(x)\n",
    "        \n",
    "        \n",
    "class GPT(torch.nn.Module):\n",
    "    def __init__(self, config):\n",
    "        super().__init__()\n",
    "        print(config)\n",
    "        assert config.vocab_size is not None\n",
    "        assert config.block_size is not None\n",
    "        \n",
    "        self.transformer = nn.ModuleDict(dict(\n",
    "            wte = nn.Embedding(config.vocab_size, config.n_embed),\n",
    "            wpe = nn.Embedding(config.block_size, config.n_embed),\n",
    "        ))\n",
    "    \n",
    "    def forward(self, ids):\n",
    "        b, t = ids.size()\n",
    "        x = self.transformer.wte(ids)\n",
    "        p = torch.arange(0, t)\n",
    "        p = self.transformer.wpe(p)\n",
    "        # add positional embedding and inputs\n",
    "        x += p\n",
    "        return x\n",
    "\n",
    "model = GPT(Config(vocab_size=vocab_size, block_size=block_size, n_embed=10))\n",
    "model(torch.randint(0, 60, (4, 8), dtype=torch.long)).shape"
   ]
  },
  {
   "cell_type": "code",
   "execution_count": 46,
   "id": "5c30dec0-c9e3-4bf8-9d1b-c24ad18897f9",
   "metadata": {
    "tags": []
   },
   "outputs": [
    {
     "data": {
      "text/plain": [
       "tensor([[46, 22, 51, 13, 16,  5,  6, 13],\n",
       "        [ 3, 58, 10, 25, 17,  9, 11, 59],\n",
       "        [25, 54, 36, 20, 39, 48, 32, 28],\n",
       "        [36, 58,  5, 51, 31, 20, 31, 42]])"
      ]
     },
     "execution_count": 46,
     "metadata": {},
     "output_type": "execute_result"
    }
   ],
   "source": [
    "torch.randint(0, 60, (4, 8), dtype=)"
   ]
  },
  {
   "cell_type": "code",
   "execution_count": null,
   "id": "849401cb-f857-4501-9e77-fbc43fcd1ab2",
   "metadata": {},
   "outputs": [],
   "source": []
  }
 ],
 "metadata": {
  "kernelspec": {
   "display_name": "Python 3 (ipykernel)",
   "language": "python",
   "name": "python3"
  },
  "language_info": {
   "codemirror_mode": {
    "name": "ipython",
    "version": 3
   },
   "file_extension": ".py",
   "mimetype": "text/x-python",
   "name": "python",
   "nbconvert_exporter": "python",
   "pygments_lexer": "ipython3",
   "version": "3.11.3"
  }
 },
 "nbformat": 4,
 "nbformat_minor": 5
}
